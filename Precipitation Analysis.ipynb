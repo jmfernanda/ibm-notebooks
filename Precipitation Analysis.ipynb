{
    "cells": [
        {
            "cell_type": "code",
            "execution_count": 1,
            "metadata": {},
            "outputs": [
                {
                    "name": "stdout",
                    "output_type": "stream",
                    "text": "+-----------+---------------+---------+--------+---------+--------------+-----+----------------+------------+\n|    STATION|   STATION_NAME|ELEVATION|LATITUDE|LONGITUDE|          DATE| HPCP|Measurement Flag|Quality Flag|\n+-----------+---------------+---------+--------+---------+--------------+-----+----------------+------------+\n|COOP:310301|ASHEVILLE NC US|    682.1| 35.5954| -82.5568|20100101 00:00|99999|               ]|            |\n|COOP:310301|ASHEVILLE NC US|    682.1| 35.5954| -82.5568|20100101 01:00|    0|               g|            |\n|COOP:310301|ASHEVILLE NC US|    682.1| 35.5954| -82.5568|20100102 06:00|    1|                |            |\n+-----------+---------------+---------+--------+---------+--------------+-----+----------------+------------+\n\n"
                },
                {
                    "data": {
                        "text/plain": "configurationName = os_121eea5022324bdba42aee2dbfd57469_configs\ncos = com.ibm.ibmos2spark.CloudObjectStorage@e07b1a3\nspark = org.apache.spark.sql.SparkSession@90abe906\ndfData1 = [STATION: string, STATION_NAME: string ... 7 more fields]\n"
                    },
                    "metadata": {},
                    "output_type": "display_data"
                },
                {
                    "data": {
                        "text/plain": "getCredentials: ()scala.collection.mutable.HashMap[String,String]\n"
                    },
                    "metadata": {},
                    "output_type": "display_data"
                },
                {
                    "data": {
                        "text/plain": "[STATION: string, STATION_NAME: string ... 7 more fields]"
                    },
                    "execution_count": 1,
                    "metadata": {},
                    "output_type": "execute_result"
                }
            ],
            "source": "// The code was removed by Watson Studio for sharing."
        }
    ],
    "metadata": {
        "kernelspec": {
            "display_name": "Scala 2.11 with Spark",
            "language": "scala",
            "name": "scala"
        },
        "language_info": {
            "codemirror_mode": "text/x-scala",
            "file_extension": ".scala",
            "mimetype": "text/x-scala",
            "name": "scala",
            "pygments_lexer": "scala",
            "version": "2.11.12"
        }
    },
    "nbformat": 4,
    "nbformat_minor": 1
}